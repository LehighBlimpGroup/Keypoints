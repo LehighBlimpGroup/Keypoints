{
 "cells": [
  {
   "cell_type": "code",
   "execution_count": null,
   "metadata": {},
   "outputs": [],
   "source": [
    "import cv2\n",
    "import numpy as np\n",
    "from Interval_keypoint import Interval_keypoint"
   ]
  },
  {
   "cell_type": "code",
   "execution_count": null,
   "metadata": {},
   "outputs": [],
   "source": [
    "### Constants ###\n",
    "# Path to the descriptor files\n",
    "DESCRIPTOR_FILE_PATH = \"side_demo_kpt_des\"      \n",
    "# The maximum distance between two matched keypoints\n",
    "MAX_MATCH_DISTANCE = 50             \n",
    "# THe nummber of frames in an interval\n",
    "INTERVAL = 12\n",
    "# Create a BFMatcher object with Hamming distance (suitable for ORB, BRIEF, etc.)\n",
    "bf = cv2.BFMatcher(cv2.NORM_HAMMING, crossCheck=True)            "
   ]
  },
  {
   "cell_type": "code",
   "execution_count": null,
   "metadata": {},
   "outputs": [],
   "source": [
    "def load_kpt_des(interval: int) -> list:\n",
    "    '''\n",
    "    description: Load the descriptors from the descriptor file.\n",
    "    param       {int} interval: The timeline interval of the state.\n",
    "    return      {list}: A list containing the descriptors for the given interval.\n",
    "    '''\n",
    "    file_name = (\n",
    "        \"../\" + DESCRIPTOR_FILE_PATH + \"/\" + \n",
    "        DESCRIPTOR_FILE_PATH + str(interval) + \".yml\"\n",
    "    )\n",
    "    file_storage = cv2.FileStorage(file_name, cv2.FILE_STORAGE_READ)\n",
    "    # Load the descriptors from the file\n",
    "    descriptors = file_storage.getNode(\"descriptors\").mat()\n",
    "    file_storage.release()\n",
    "    return descriptors"
   ]
  },
  {
   "cell_type": "code",
   "execution_count": null,
   "metadata": {},
   "outputs": [],
   "source": [
    "def compare_descriptors(descriptors1: np.ndarray, descriptors2: np.ndarray) -> list:\n",
    "    '''\n",
    "    description: Compare two sets of descriptors using BFMatcher.\n",
    "    param       {np.ndarray} descriptors1: Descriptors from the first set.\n",
    "    param       {np.ndarray} descriptors2: Descriptors from the second set.\n",
    "    return      {list}: A list containing pairs of matching keypoints' indices (queryIdx, trainIdx).\n",
    "    '''\n",
    "    # Match descriptors from two intervals\n",
    "    raw_matches = bf.match(descriptors1, descriptors2)\n",
    "    # Extract pairs of matching keypoints' indices from the matches\n",
    "    matches = [(match.queryIdx, match.trainIdx) for match in raw_matches]\n",
    "    return matches"
   ]
  },
  {
   "cell_type": "code",
   "execution_count": null,
   "metadata": {},
   "outputs": [],
   "source": [
    "debug1 = []\n",
    "debug2 = []\n",
    "testdata = [\n",
    "    [(1, 3), (2, 4), (3, 5), (5, 9)],\n",
    "    [(3, 4), (4, 5), (8, 9)],\n",
    "    [(1, 2), (2, 3), (4, 5), (5, 6)],\n",
    "    [(2, 4), (4, 5), (5, 6), (6, 7)],\n",
    "    [(1, 1), (2, 3), (3, 5), (4, 6)]\n",
    "]\n",
    "for i in range(0, 5):\n",
    "    print(i)\n",
    "    matches = testdata[i]\n",
    "    print(\"matches: \", matches)\n",
    "    match_pair_1 = [match[0] for match in matches]\n",
    "    match_pair_2 = [match[1] for match in matches]\n",
    "    print(\"match_pair_1: \", match_pair_1)\n",
    "    print(\"match_pair_2: \", match_pair_2)\n",
    "    last_matches = [x[1] for x in debug1]\n",
    "    print(\"last_matches: \", last_matches)\n",
    "    for j in range(10):\n",
    "        if j in match_pair_1:\n",
    "            # Check if the matched keypoint is also matched by another keypoint\n",
    "            if j in last_matches:\n",
    "                # If so, update the last match of the keypoint\n",
    "                debug1[last_matches.index(j)][1] = match_pair_2[match_pair_1.index(j)]\n",
    "                debug1[last_matches.index(j)][3] = i+2\n",
    "            else:\n",
    "                debug1.append([j,match_pair_2[match_pair_1.index(j)],i+1,i+2])\n",
    "        else:\n",
    "            if j in last_matches:\n",
    "                debug2.append(debug1[last_matches.index(j)])\n",
    "            else:\n",
    "                # print(\"j: \", j)\n",
    "                debug2.append([j,j,1+i,1+i])\n",
    "    # Remove elements in debug2 from debug1\n",
    "    # debug1 = [x for x in debug1 if x not in debug2]\n",
    "    # Add elements in debug1 to debug2\n",
    "    # print(\"debug1: \", debug1)\n",
    "    # print(\"debug2: \", debug2)\n",
    "\n",
    "debug2.extend(debug1)\n",
    "print(\"Final list of elements: \", debug2)\n",
    "\n",
    "# Visualize the result in debug2\n",
    "# Create a black image\n",
    "img = np.zeros((100, 100, 3), np.uint8)\n",
    "# Draw the keypoints\n",
    "for i in range(len(debug2)):\n",
    "    cv2.circle(img, (debug2[i][0], debug2[i][2]), 1, (255, 0, 0), -1)\n",
    "    cv2.circle(img, (debug2[i][1], debug2[i][3]), 1, (0, 255, 0), -1)\n",
    "# Show the image\n",
    "cv2.imshow(\"image\", img)\n",
    "cv2.waitKey(0)\n",
    "cv2.destroyAllWindows()\n",
    "print(\"Done\")"
   ]
  },
  {
   "cell_type": "code",
   "execution_count": null,
   "metadata": {},
   "outputs": [],
   "source": []
  }
 ],
 "metadata": {
  "kernelspec": {
   "display_name": "Python 3 (ipykernel)",
   "language": "python",
   "name": "python3"
  },
  "language_info": {
   "codemirror_mode": {
    "name": "ipython",
    "version": 3
   },
   "file_extension": ".py",
   "mimetype": "text/x-python",
   "name": "python",
   "nbconvert_exporter": "python",
   "pygments_lexer": "ipython3",
   "version": "3.11.4"
  }
 },
 "nbformat": 4,
 "nbformat_minor": 2
}
