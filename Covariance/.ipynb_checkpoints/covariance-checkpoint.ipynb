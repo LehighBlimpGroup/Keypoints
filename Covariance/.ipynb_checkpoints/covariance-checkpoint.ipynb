{
 "cells": [
  {
   "cell_type": "code",
   "execution_count": 1,
   "metadata": {},
   "outputs": [],
   "source": [
    "#!/usr/bin/python\n",
    "import cv2\n",
    "import os\n",
    "import math\n",
    "import time\n",
    "import numpy as np\n",
    "import matplotlib.pyplot as plt\n",
    "from matplotlib.patches import Ellipse\n",
    "import matplotlib.transforms as transforms"
   ]
  },
  {
   "cell_type": "code",
   "execution_count": 46,
   "metadata": {},
   "outputs": [],
   "source": [
    "IMAGE_FILE = 'image.jpg' # image file\n",
    "VIDEO_FILE = 'demo.mp4'  # video file\n",
    "MAX_MATCH_DISTANCE = 15  # match threshold\n",
    "\n",
    "# Create an ORB object and detect keypoints and descriptors in the template\n",
    "orb = cv2.ORB_create()\n",
    "# Create a brute-force matcher object\n",
    "bf = cv2.BFMatcher(cv2.NORM_HAMMING, crossCheck=True)"
   ]
  },
  {
   "cell_type": "code",
   "execution_count": 47,
   "metadata": {},
   "outputs": [],
   "source": [
    "def load_descriptors(file_name):\n",
    "    fs = cv2.FileStorage(file_name, cv2.FILE_STORAGE_READ)\n",
    "    descriptors = fs.getNode(\"descriptors\").mat()\n",
    "    keypoints = fs.getNode(\"keypoints\").mat()\n",
    "    fs.release()\n",
    "    return keypoints, descriptors"
   ]
  },
  {
   "cell_type": "code",
   "execution_count": 48,
   "metadata": {},
   "outputs": [],
   "source": [
    "def keypoints_from_image_file(image_file):\n",
    "    img = cv2.imread(image_file)\n",
    "    gray = cv2.cvtColor(img, cv2.COLOR_BGR2GRAY)\n",
    "    # Detect keypoints and compute descriptors in the frame\n",
    "    kpts, des = orb.detectAndCompute(gray, None)\n",
    "    return kpts, des, img"
   ]
  },
  {
   "cell_type": "code",
   "execution_count": 49,
   "metadata": {},
   "outputs": [],
   "source": [
    "def get_coordinates(matches):\n",
    "    query, train = [], []\n",
    "    for match in matches:\n",
    "        query_idx = match.queryIdx\n",
    "        train_idx = match.trainIdx\n",
    "        (x1, y1) = img_keypoints[query_idx].pt\n",
    "        query.append(np.array((x1, y1)))\n",
    "        (x2, y2) = ref_keypoints[train_idx]\n",
    "        train.append(np.array((x2, y2)))\n",
    "    #Keypoints of the obtained image\n",
    "    qx = np.array([x for (x, y) in query])\n",
    "    qy = np.array([y for (x, y) in query])\n",
    "    #Keypoints of the reference image\n",
    "    tx = np.array([x for (x, y) in train])\n",
    "    ty = np.array([y for (x, y) in train])\n",
    "    return qx, qy, tx, ty"
   ]
  },
  {
   "cell_type": "code",
   "execution_count": 50,
   "metadata": {},
   "outputs": [],
   "source": [
    "def confidence_x(x, y, n_std=3.0):\n",
    "    if x.size != y.size: raise ValueError(\"x and y must be the same size\")\n",
    "    cov = np.cov(x, y)\n",
    "    pearson = cov[0, 1]/np.sqrt(cov[0, 0] * cov[1, 1])\n",
    "    radius_x = np.sqrt(1 + pearson)\n",
    "    width = radius_x * 2\n",
    "    scale_x = np.sqrt(cov[0, 0]) * n_std\n",
    "    width_x = width * scale_x\n",
    "    mean_x = np.mean(x)\n",
    "    return mean_x, width_x"
   ]
  },
  {
   "cell_type": "code",
   "execution_count": 51,
   "metadata": {},
   "outputs": [],
   "source": [
    "def confidence_ellipse(x, y, ax, n_std=3.0, facecolor='none', **kwargs):\n",
    "    if x.size != y.size: raise ValueError(\"x and y must be the same size\")\n",
    "    cov = np.cov(x, y)\n",
    "    pearson = cov[0, 1]/np.sqrt(cov[0, 0] * cov[1, 1])\n",
    "    ell_radius_x = np.sqrt(1 + pearson)\n",
    "    ell_radius_y = np.sqrt(1 - pearson)    \n",
    "    ellipse = Ellipse((0, 0), width=ell_radius_x * 2, height=ell_radius_y * 2, facecolor=facecolor, **kwargs)\n",
    "    scale_x = np.sqrt(cov[0, 0]) * n_std\n",
    "    mean_x = np.mean(x)\n",
    "    scale_y = np.sqrt(cov[1, 1]) * n_std\n",
    "    mean_y = np.mean(y)\n",
    "    ax.plot(mean_x, mean_y, 'r.')\n",
    "    transf = transforms.Affine2D().rotate_deg(0).scale(scale_x, scale_y).translate(mean_x, mean_y)\n",
    "    ellipse.set_transform(transf + ax.transData)\n",
    "    ax.add_patch(ellipse)\n",
    "    transformed_width = ellipse.width * scale_x\n",
    "    transformed_height = ellipse.height * scale_y"
   ]
  },
  {
   "cell_type": "code",
   "execution_count": 52,
   "metadata": {},
   "outputs": [],
   "source": [
    "def plot_analysis(x1, y1, x2, y2, h, w):\n",
    "    #Keypoints of the obtained image##############################\n",
    "    plt.subplot(1, 2, 1) # row 1, col 2 index 1\n",
    "    plt.plot(x1, y1, '.')\n",
    "    plt.xlim([0, w])\n",
    "    plt.ylim([0, h])\n",
    "    ax = plt.gca()\n",
    "    ax.set_aspect('equal', adjustable='box')\n",
    "    q_mx, q_widthx = confidence_x(x1, y1)\n",
    "    line_x1 = [(q_mx-q_widthx/2), (q_mx+q_widthx/2)]\n",
    "    line_y1 = [h/2, h/2]\n",
    "    plt.plot(line_x1, line_y1, color = 'b', linestyle = '-')\n",
    "    confidence_ellipse(x1, y1, ax, edgecolor='red')\n",
    "    plt.title(\"Retrived image\") \n",
    "    #Keypoints of the reference image##############################\n",
    "    plt.subplot(1, 2, 2) # row 1, col 2 index 2\n",
    "    plt.plot(x2, y2, '.')\n",
    "    plt.xlim([0, w])\n",
    "    plt.ylim([0, h])\n",
    "    ax = plt.gca()\n",
    "    ax.set_aspect('equal', adjustable='box')\n",
    "    t_mx, t_widthx = confidence_x(x2, y2)\n",
    "    line_x2 = [(t_mx-t_widthx/2), (t_mx+t_widthx/2)]\n",
    "    line_y2 = [h/2, h/2]\n",
    "    plt.plot(line_x2, line_y2, color = 'b', linestyle = '-')\n",
    "    confidence_ellipse(x2, y2, ax, edgecolor='red')\n",
    "    plt.title(\"Reference image\")\n",
    "    plt.show()    \n",
    "    print(\"Axis ratio\", q_widthx/t_widthx)\n",
    "    print(\"Center deviation\", q_mx-t_mx, \"\\n\\n\")"
   ]
  },
  {
   "cell_type": "code",
   "execution_count": 54,
   "metadata": {
    "scrolled": false
   },
   "outputs": [
    {
     "ename": "TypeError",
     "evalue": "'>' not supported between instances of 'list' and 'int'",
     "output_type": "error",
     "traceback": [
      "\u001b[0;31m---------------------------------------------------------------------------\u001b[0m",
      "\u001b[0;31mTypeError\u001b[0m                                 Traceback (most recent call last)",
      "Cell \u001b[0;32mIn[54], line 12\u001b[0m\n\u001b[1;32m     10\u001b[0m matches \u001b[38;5;241m=\u001b[39m bf\u001b[38;5;241m.\u001b[39mmatch(img_descriptors, ref_descriptors)\n\u001b[1;32m     11\u001b[0m matches \u001b[38;5;241m=\u001b[39m [m \u001b[38;5;28;01mfor\u001b[39;00m m \u001b[38;5;129;01min\u001b[39;00m matches \u001b[38;5;28;01mif\u001b[39;00m m\u001b[38;5;241m.\u001b[39mdistance \u001b[38;5;241m<\u001b[39m MAX_MATCH_DISTANCE]\n\u001b[0;32m---> 12\u001b[0m \u001b[38;5;28;01mif\u001b[39;00m \u001b[43mmatches\u001b[49m\u001b[43m \u001b[49m\u001b[38;5;241;43m>\u001b[39;49m\u001b[43m \u001b[49m\u001b[38;5;241;43m0\u001b[39;49m:\n\u001b[1;32m     13\u001b[0m     qx, qy, tx, ty \u001b[38;5;241m=\u001b[39m get_coordinates(matches)\n\u001b[1;32m     14\u001b[0m     \u001b[38;5;28mprint\u001b[39m(\u001b[38;5;124m\"\u001b[39m\u001b[38;5;124mCompared with interval \u001b[39m\u001b[38;5;124m\"\u001b[39m \u001b[38;5;241m+\u001b[39m \u001b[38;5;28mstr\u001b[39m(i\u001b[38;5;241m+\u001b[39m\u001b[38;5;241m1\u001b[39m) \u001b[38;5;241m+\u001b[39m \u001b[38;5;124m\"\u001b[39m\u001b[38;5;124m, Keypoint matches: \u001b[39m\u001b[38;5;124m\"\u001b[39m \u001b[38;5;241m+\u001b[39m \u001b[38;5;28mstr\u001b[39m(\u001b[38;5;28mlen\u001b[39m(matches)))\n",
      "\u001b[0;31mTypeError\u001b[0m: '>' not supported between instances of 'list' and 'int'"
     ]
    }
   ],
   "source": [
    "if __name__ == '__main__':\n",
    "    # Load the ORB feature detector and descriptor from the image\n",
    "    img_keypoints, img_descriptors, img = keypoints_from_image_file(IMAGE_FILE)\n",
    "    # Determine the height and width of the image\n",
    "    h, w, c = img.shape\n",
    "    for i in range(len([entry for entry in os.listdir(\"demo_kpt_des\")])):\n",
    "        # load the  for i in range(descriptor for the interval\n",
    "        ref_keypoints, ref_descriptors = load_descriptors(\"demo_kpt_des/demo_kpt_des\" + str(i+1) + \".yml\")\n",
    "        # match the descriptors with the image\n",
    "        matches = bf.match(img_descriptors, ref_descriptors)\n",
    "        matches = [m for m in matches if m.distance < MAX_MATCH_DISTANCE]\n",
    "        if len(matches) > 0:\n",
    "            qx, qy, tx, ty = get_coordinates(matches)\n",
    "            print(\"Compared with interval \" + str(i+1) + \", Keypoint matches: \" + str(len(matches)))\n",
    "            plot_analysis(qx, qy, tx, ty, h, w)"
   ]
  },
  {
   "cell_type": "code",
   "execution_count": null,
   "metadata": {},
   "outputs": [],
   "source": []
  }
 ],
 "metadata": {
  "kernelspec": {
   "display_name": "Python 3 (ipykernel)",
   "language": "python",
   "name": "python3"
  },
  "language_info": {
   "codemirror_mode": {
    "name": "ipython",
    "version": 3
   },
   "file_extension": ".py",
   "mimetype": "text/x-python",
   "name": "python",
   "nbconvert_exporter": "python",
   "pygments_lexer": "ipython3",
   "version": "3.9.13"
  }
 },
 "nbformat": 4,
 "nbformat_minor": 2
}
