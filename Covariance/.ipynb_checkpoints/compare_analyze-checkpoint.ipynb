{
 "cells": [
  {
   "cell_type": "code",
   "execution_count": 17,
   "id": "54aa321f",
   "metadata": {
    "scrolled": true
   },
   "outputs": [],
   "source": [
    "import util"
   ]
  },
  {
   "cell_type": "code",
   "execution_count": 18,
   "id": "849ab3f7",
   "metadata": {},
   "outputs": [],
   "source": [
    "DES_FILE = \"demo_kpt_des\" # directory name\n",
    "IMAGE_FILE = 'image.jpg' # image file\n",
    "VIDEO_FILE = 'demo.mp4' # video file\n",
    "SKIP_INTERVAL = 5 #intervals between the carrot and the donkey"
   ]
  },
  {
   "cell_type": "code",
   "execution_count": 19,
   "id": "8d7f5bce",
   "metadata": {
    "scrolled": true
   },
   "outputs": [
    {
     "ename": "NameError",
     "evalue": "name 'img_keypoints' is not defined",
     "output_type": "error",
     "traceback": [
      "\u001b[0;31m---------------------------------------------------------------------------\u001b[0m",
      "\u001b[0;31mNameError\u001b[0m                                 Traceback (most recent call last)",
      "Cell \u001b[0;32mIn[19], line 3\u001b[0m\n\u001b[1;32m      1\u001b[0m \u001b[38;5;66;03m# Load retrived image keypoints\u001b[39;00m\n\u001b[1;32m      2\u001b[0m img_keypoints, img_descriptors, img \u001b[38;5;241m=\u001b[39m util\u001b[38;5;241m.\u001b[39mkeypoints_from_image_file(IMAGE_FILE)\n\u001b[0;32m----> 3\u001b[0m robot_keypoints \u001b[38;5;241m=\u001b[39m \u001b[43mutil\u001b[49m\u001b[38;5;241;43m.\u001b[39;49m\u001b[43mconvert_keypoints\u001b[49m\u001b[43m(\u001b[49m\u001b[43mimg_keypoints\u001b[49m\u001b[43m)\u001b[49m\n\u001b[1;32m      4\u001b[0m robot_descriptors \u001b[38;5;241m=\u001b[39m img_descriptors\n\u001b[1;32m      5\u001b[0m \u001b[38;5;66;03m# Find the best matching interval reference\u001b[39;00m\n",
      "File \u001b[0;32m~/Desktop/Keypoints/Covariance/util.py:34\u001b[0m, in \u001b[0;36mconvert_keypoints\u001b[0;34m(keypoints)\u001b[0m\n\u001b[1;32m     32\u001b[0m points \u001b[38;5;241m=\u001b[39m []\n\u001b[1;32m     33\u001b[0m \u001b[38;5;28;01mfor\u001b[39;00m i \u001b[38;5;129;01min\u001b[39;00m \u001b[38;5;28mrange\u001b[39m(\u001b[38;5;28mlen\u001b[39m(keypoints)):\n\u001b[0;32m---> 34\u001b[0m     (x, y) \u001b[38;5;241m=\u001b[39m \u001b[43mimg_keypoints\u001b[49m[i]\u001b[38;5;241m.\u001b[39mpt\n\u001b[1;32m     35\u001b[0m     points\u001b[38;5;241m.\u001b[39mappend(np\u001b[38;5;241m.\u001b[39marray((x, y)))\n\u001b[1;32m     36\u001b[0m points \u001b[38;5;241m=\u001b[39m np\u001b[38;5;241m.\u001b[39marray(points)\n",
      "\u001b[0;31mNameError\u001b[0m: name 'img_keypoints' is not defined"
     ]
    }
   ],
   "source": [
    "# Load retrived image keypoints\n",
    "img_keypoints, img_descriptors, img = util.keypoints_from_image_file(IMAGE_FILE)\n",
    "robot_keypoints = util.convert_keypoints(img_keypoints)\n",
    "robot_descriptors = img_descriptors\n",
    "# Find the best matching interval reference\n",
    "interval = util.find_best_interval(robot_descriptors, DES_FILE)\n",
    "# Load reference image keypoints\n",
    "ref_keypoints, ref_descriptors = util.load_descriptors(DES_FILE + \"/\" + DES_FILE + str(interval+1) + \".yml\")"
   ]
  },
  {
   "cell_type": "code",
   "execution_count": 15,
   "id": "9bb6e205",
   "metadata": {},
   "outputs": [
    {
     "ename": "IndentationError",
     "evalue": "unexpected indent (2305086237.py, line 2)",
     "output_type": "error",
     "traceback": [
      "\u001b[0;36m  Cell \u001b[0;32mIn[15], line 2\u001b[0;36m\u001b[0m\n\u001b[0;31m    matches1 = bf.match(robot_descriptors, ref_descriptors)\u001b[0m\n\u001b[0m    ^\u001b[0m\n\u001b[0;31mIndentationError\u001b[0m\u001b[0;31m:\u001b[0m unexpected indent\n"
     ]
    }
   ],
   "source": [
    " # Match the descriptors of robot and donkey\n",
    "    matches1 = bf.match(robot_descriptors, ref_descriptors)\n",
    "    print(\"Best matching interval: \" + str(interval+1))\n",
    "    print(\"Keypoint matches: \" + str(len(matches1)))\n",
    "    # Find matching keypoints coordinates for retrived and reference keypoints\n",
    "    robot_xy, donkey_xy = keypoint_coordinate(matches1, robot_keypoints, ref_keypoints)\n",
    "    # Plot the keypoints analysis\n",
    "    plot_pair_analysis(robot_xy, \"Robot\", donkey_xy, \"Donkey\", img.shape[0], img.shape[1])\n",
    "    \n",
    "    # Load reference image keypoints\n",
    "    goal_keypoints, goal_descriptors = load_descriptors(DES_FILE + \"/\" + DES_FILE + str((interval+1)+SKIP_INTERVAL) + \".yml\")\n",
    "    \n",
    "    # Match the descriptors of robot and carror\n",
    "    matches2 = bf.match(robot_descriptors, goal_descriptors)\n",
    "    print(\"\\n\\nKeypoint matches: \" + str(len(matches1)))\n",
    "    # Find matching keypoints coordinates for retrived and reference keypoints\n",
    "    robot_xy, carrot_xy = keypoint_coordinate(matches2, robot_keypoints, goal_keypoints)\n",
    "    # Plot the keypoints analysis\n",
    "    plot_pair_analysis(robot_xy, \"Robot\", carrot_xy, \"Carrot\", img.shape[0], img.shape[1])\n",
    "\n",
    "    # Match the descriptors of donkey and carrot\n",
    "    matches3 = bf.match(ref_descriptors, goal_descriptors)\n",
    "    print(\"\\n\\nKeypoint matches: \" + str(len(matches3)))\n",
    "    # Find matching keypoints coordinates for retrived and reference keypoints\n",
    "    donkey_xy, carrot_xy = keypoint_coordinate(matches3, ref_keypoints, goal_keypoints)\n",
    "    # Plot the keypoints analysis\n",
    "    plot_pair_analysis(donkey_xy, \"Donkey\", carrot_xy, \"Carrot\", img.shape[0], img.shape[1])\n",
    "    "
   ]
  },
  {
   "cell_type": "code",
   "execution_count": null,
   "id": "645d9535",
   "metadata": {},
   "outputs": [],
   "source": []
  },
  {
   "cell_type": "code",
   "execution_count": null,
   "id": "1382f536",
   "metadata": {},
   "outputs": [],
   "source": []
  }
 ],
 "metadata": {
  "kernelspec": {
   "display_name": "Python 3 (ipykernel)",
   "language": "python",
   "name": "python3"
  },
  "language_info": {
   "codemirror_mode": {
    "name": "ipython",
    "version": 3
   },
   "file_extension": ".py",
   "mimetype": "text/x-python",
   "name": "python",
   "nbconvert_exporter": "python",
   "pygments_lexer": "ipython3",
   "version": "3.9.13"
  }
 },
 "nbformat": 4,
 "nbformat_minor": 5
}
