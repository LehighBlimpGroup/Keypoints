{
 "cells": [
  {
   "cell_type": "code",
   "execution_count": 1,
   "id": "17616608",
   "metadata": {},
   "outputs": [],
   "source": [
    "#!/usr/bin/python\n",
    "import cv2\n",
    "import os\n",
    "import math\n",
    "import time\n",
    "import numpy as np\n",
    "import matplotlib.pyplot as plt\n",
    "from matplotlib.patches import Ellipse\n",
    "import matplotlib.transforms as transforms"
   ]
  },
  {
   "cell_type": "code",
   "execution_count": 2,
   "id": "ef199852",
   "metadata": {},
   "outputs": [],
   "source": [
    "DES_FILE = \"demo_kpt_des\" # directory name\n",
    "IMAGE_FILE = 'image.jpg' # image file\n",
    "VIDEO_FILE = 'demo.mp4' # video file\n",
    "\n",
    "# Create an ORB object and detect keypoints and descriptors in the template\n",
    "orb = cv2.ORB_create()\n",
    "# Create a brute-force matcher object\n",
    "bf = cv2.BFMatcher(cv2.NORM_HAMMING, crossCheck=True)"
   ]
  },
  {
   "cell_type": "code",
   "execution_count": 3,
   "id": "331ce58a",
   "metadata": {},
   "outputs": [],
   "source": [
    "def keypoints_from_image_file(image_file):\n",
    "    img = cv2.imread(image_file)\n",
    "    gray = cv2.cvtColor(img, cv2.COLOR_BGR2GRAY)\n",
    "    # Detect keypoints and compute descriptors in the frame\n",
    "    keypoints, des = orb.detectAndCompute(gray, None)\n",
    "    return keypoints, des, img"
   ]
  },
  {
   "cell_type": "code",
   "execution_count": 4,
   "id": "91062e05",
   "metadata": {},
   "outputs": [],
   "source": [
    "def load_descriptors(file_name):\n",
    "    fs = cv2.FileStorage(file_name, cv2.FILE_STORAGE_READ)\n",
    "    descriptors = fs.getNode(\"descriptors\").mat()\n",
    "    keypoints = fs.getNode(\"keypoints\").mat()\n",
    "    fs.release()\n",
    "    return keypoints, descriptors"
   ]
  },
  {
   "cell_type": "code",
   "execution_count": 5,
   "id": "95fd6a3f",
   "metadata": {},
   "outputs": [],
   "source": [
    "def find_best_interval(img_keypoints, img_descriptors, img):\n",
    "    ave_sum_distances = []\n",
    "    best_interval = -1\n",
    "    best_sq_dist = math.inf\n",
    "    # Iterate through all intervals to find the interval that matches the most with the image descriptors\n",
    "    for i in range(len([entry for entry in os.listdir(DES_FILE)])):\n",
    "        # load the descriptor for the interval\n",
    "        keypoints, descriptors = load_descriptors(DES_FILE + \"/\" + DES_FILE + str(i+1) + \".yml\")\n",
    "        # match the descriptors with the image\n",
    "        matches = bf.match(img_descriptors, descriptors)\n",
    "        # print(len(matches))\n",
    "        # cummulate the average hamming distance for each interval match\n",
    "        ave_sum_distance = sum([m.distance for m in matches]) / len(matches)\n",
    "        ave_sum_distances.append(ave_sum_distance)\n",
    "        # find the best match with the least distance\n",
    "        if ave_sum_distance <= best_sq_dist:\n",
    "            best_sq_dist = ave_sum_distance\n",
    "            best_interval = i\n",
    "    return best_interval"
   ]
  },
  {
   "cell_type": "code",
   "execution_count": 6,
   "id": "53a55baa",
   "metadata": {},
   "outputs": [],
   "source": [
    "def keypoint_coordinate(matches):\n",
    "    query_xy, train_xy = [], []\n",
    "    for match in matches:\n",
    "        img_idx = match.queryIdx\n",
    "        interval_idx = match.trainIdx\n",
    "        (x1, y1) = img_keypoints[img_idx].pt\n",
    "        query_xy.append(np.array((x1, y1)))\n",
    "        (x2, y2) = ref_keypoints[interval_idx]\n",
    "        train_xy.append(np.array((x2, y2)))\n",
    "    return query_xy, train_xy"
   ]
  },
  {
   "cell_type": "code",
   "execution_count": 7,
   "id": "17115c54",
   "metadata": {},
   "outputs": [],
   "source": [
    "def confidence_ellipse(x, y, ax, n_std=3.0, facecolor='none', **kwargs):\n",
    "    if x.size != y.size:\n",
    "        raise ValueError(\"x and y must be the same size\")\n",
    "    cov = np.cov(x, y)\n",
    "    pearson = cov[0, 1]/np.sqrt(cov[0, 0] * cov[1, 1])\n",
    "    # Using a special case to obtain the eigenvalues of this\n",
    "    # two-dimensional dataset.\n",
    "    ell_radius_x = np.sqrt(1 + pearson)\n",
    "    ell_radius_y = np.sqrt(1 - pearson)\n",
    "    ellipse = Ellipse((0, 0), width=ell_radius_x * 2, height=ell_radius_y * 2,\n",
    "                      facecolor=facecolor, **kwargs)\n",
    "    # Calculating the standard deviation of x \n",
    "    scale_x = np.sqrt(cov[0, 0]) * n_std\n",
    "    mean_x = np.mean(x)\n",
    "    # calculating the standard deviation of y \n",
    "    scale_y = np.sqrt(cov[1, 1]) * n_std\n",
    "    mean_y = np.mean(y)\n",
    "    # plot the center of the ellipse\n",
    "    ax.plot(mean_x, mean_y, 'r.')\n",
    "    transf = transforms.Affine2D() \\\n",
    "        .scale(scale_x, scale_y) \\\n",
    "        .translate(mean_x, mean_y)\n",
    "    ellipse.set_transform(transf + ax.transData)\n",
    "    ax.add_patch(ellipse)\n",
    "    return(ell_radius_x, ell_radius_y)"
   ]
  },
  {
   "cell_type": "code",
   "execution_count": 15,
   "id": "d579dff1",
   "metadata": {},
   "outputs": [],
   "source": [
    "def plot_pair_analysis(fig, ax, query, train, h, w):\n",
    "    #Keypoints of the obtained image\n",
    "    qx = np.array([x for (x, y) in query])\n",
    "    qy = np.array([y for (x, y) in query])\n",
    "    plt.subplot(1, 2, 1) # row 1, col 2 index 1\n",
    "    plt.plot(qx, qy, '.')\n",
    "    plt.xlim([0, w])\n",
    "    plt.ylim([0, h])\n",
    "    ax = plt.gca()\n",
    "    ax.set_aspect('equal', adjustable='box')\n",
    "    plt.title(\"Retrived image\")\n",
    "    #Keypoints of the reference image\n",
    "    tx = np.array([x for (x, y) in train])\n",
    "    ty = np.array([y for (x, y) in train])\n",
    "    plt.subplot(1, 2, 2) # row 1, col 2 index 2\n",
    "    plt.plot(tx, ty, '.')\n",
    "    plt.xlim([0, w])\n",
    "    plt.ylim([0, h])\n",
    "    ax = plt.gca()\n",
    "    ax.set_aspect('equal', adjustable='box')\n",
    "    plt.title(\"Reference image\")\n",
    "    plt.show()"
   ]
  },
  {
   "cell_type": "code",
   "execution_count": 16,
   "id": "8d7f5bce",
   "metadata": {},
   "outputs": [
    {
     "name": "stdout",
     "output_type": "stream",
     "text": [
      "0.047740936279296875\n",
      "Best matching interval: 36\n",
      "Keypoint matches: 29\n"
     ]
    },
    {
     "data": {
      "image/png": "[encoded data removed]",
      "text/plain": [
       "<Figure size 640x480 with 2 Axes>"
      ]
     },
     "metadata": {},
     "output_type": "display_data"
    },
    {
     "ename": "NameError",
     "evalue": "name 'q_radius_x' is not defined",
     "output_type": "error",
     "traceback": [
      "\u001b[0;31m---------------------------------------------------------------------------\u001b[0m",
      "\u001b[0;31mNameError\u001b[0m                                 Traceback (most recent call last)",
      "Cell \u001b[0;32mIn[16], line 19\u001b[0m\n\u001b[1;32m     17\u001b[0m \u001b[38;5;66;03m# Plot the keypoints analysis\u001b[39;00m\n\u001b[1;32m     18\u001b[0m fig, ax \u001b[38;5;241m=\u001b[39m plt\u001b[38;5;241m.\u001b[39msubplots()\n\u001b[0;32m---> 19\u001b[0m \u001b[43mplot_pair_analysis\u001b[49m\u001b[43m(\u001b[49m\u001b[43mfig\u001b[49m\u001b[43m,\u001b[49m\u001b[43m \u001b[49m\u001b[43max\u001b[49m\u001b[43m,\u001b[49m\u001b[43m \u001b[49m\u001b[43mquery_xy\u001b[49m\u001b[43m,\u001b[49m\u001b[43m \u001b[49m\u001b[43mtrain_xy\u001b[49m\u001b[43m,\u001b[49m\u001b[43m \u001b[49m\u001b[43mimg\u001b[49m\u001b[38;5;241;43m.\u001b[39;49m\u001b[43mshape\u001b[49m\u001b[43m[\u001b[49m\u001b[38;5;241;43m0\u001b[39;49m\u001b[43m]\u001b[49m\u001b[43m,\u001b[49m\u001b[43m \u001b[49m\u001b[43mimg\u001b[49m\u001b[38;5;241;43m.\u001b[39;49m\u001b[43mshape\u001b[49m\u001b[43m[\u001b[49m\u001b[38;5;241;43m1\u001b[39;49m\u001b[43m]\u001b[49m\u001b[43m)\u001b[49m\n",
      "Cell \u001b[0;32mIn[15], line 25\u001b[0m, in \u001b[0;36mplot_pair_analysis\u001b[0;34m(fig, ax, query, train, h, w)\u001b[0m\n\u001b[1;32m     23\u001b[0m plt\u001b[38;5;241m.\u001b[39mtitle(\u001b[38;5;124m\"\u001b[39m\u001b[38;5;124mReference image\u001b[39m\u001b[38;5;124m\"\u001b[39m)\n\u001b[1;32m     24\u001b[0m plt\u001b[38;5;241m.\u001b[39mshow()\n\u001b[0;32m---> 25\u001b[0m \u001b[38;5;28mprint\u001b[39m(\u001b[38;5;124m\"\u001b[39m\u001b[38;5;124mAxis ratio:\u001b[39m\u001b[38;5;124m\"\u001b[39m, (\u001b[43mq_radius_x\u001b[49m\u001b[38;5;241m/\u001b[39mq_radius_y)\u001b[38;5;241m/\u001b[39m(t_radius_x\u001b[38;5;241m/\u001b[39mt_radius_y))\n",
      "\u001b[0;31mNameError\u001b[0m: name 'q_radius_x' is not defined"
     ]
    }
   ],
   "source": [
    "if __name__ == '__main__':\n",
    "    # Load retrived image keypoints\n",
    "    img_keypoints, img_descriptors, img = keypoints_from_image_file(IMAGE_FILE)\n",
    "    # Find the best matching interval reference\n",
    "    interval = find_best_interval(img_keypoints, img_descriptors, img)\n",
    "    print(time1 - begin)\n",
    "    # Load reference image keypoints\n",
    "    ref_keypoints, ref_descriptors = load_descriptors(DES_FILE + \"/\" + DES_FILE + str(interval+1) + \".yml\")\n",
    "    # Match the descriptors of ret and ref\n",
    "    matches = bf.match(img_descriptors, ref_descriptors)\n",
    "    print(\"Best matching interval: \" + str(interval+1))\n",
    "    print(\"Keypoint matches: \" + str(len(matches)))\n",
    "    # Find matching keypoints coordinates for retrived and reference keypoints\n",
    "    query_xy, train_xy = keypoint_coordinate(matches)\n",
    "    # Plot the keypoints analysis\n",
    "    fig, ax = plt.subplots()\n",
    "    plot_pair_analysis(fig, ax, query_xy, train_xy, img.shape[0], img.shape[1])\n",
    "    q_radius_x, q_radius_y = confidence_ellipse(qx, qy, ax, edgecolor='red')\n",
    "    t_radius_x, t_radius_y = confidence_ellipse(tx, ty, ax, edgecolor='red')\n",
    "    "
   ]
  },
  {
   "cell_type": "code",
   "execution_count": null,
   "id": "645d9535",
   "metadata": {},
   "outputs": [],
   "source": []
  },
  {
   "cell_type": "code",
   "execution_count": null,
   "id": "1382f536",
   "metadata": {},
   "outputs": [],
   "source": []
  }
 ],
 "metadata": {
  "kernelspec": {
   "display_name": "Python 3 (ipykernel)",
   "language": "python",
   "name": "python3"
  },
  "language_info": {
   "codemirror_mode": {
    "name": "ipython",
    "version": 3
   },
   "file_extension": ".py",
   "mimetype": "text/x-python",
   "name": "python",
   "nbconvert_exporter": "python",
   "pygments_lexer": "ipython3",
   "version": "3.9.13"
  }
 },
 "nbformat": 4,
 "nbformat_minor": 5
}
