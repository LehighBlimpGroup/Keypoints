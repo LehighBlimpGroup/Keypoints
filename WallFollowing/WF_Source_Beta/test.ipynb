{
 "cells": [
  {
   "cell_type": "code",
   "execution_count": 4,
   "metadata": {},
   "outputs": [],
   "source": [
    "import os\n",
    "def get_path():\n",
    "    index = 1\n",
    "    while True:\n",
    "        save_path = \"./Results/Imt_{}\".format(index)\n",
    "        if os.path.exists(save_path):\n",
    "            index += 1\n",
    "        else:\n",
    "            os.mkdir(save_path) \n",
    "            return save_path\n",
    "        \n",
    "save_path = get_path()"
   ]
  }
 ],
 "metadata": {
  "kernelspec": {
   "display_name": "Python 3",
   "language": "python",
   "name": "python3"
  },
  "language_info": {
   "codemirror_mode": {
    "name": "ipython",
    "version": 3
   },
   "file_extension": ".py",
   "mimetype": "text/x-python",
   "name": "python",
   "nbconvert_exporter": "python",
   "pygments_lexer": "ipython3",
   "version": "3.11.4"
  },
  "orig_nbformat": 4
 },
 "nbformat": 4,
 "nbformat_minor": 2
}
