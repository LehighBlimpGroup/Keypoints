{
 "cells": [
  {
   "cell_type": "code",
   "execution_count": 64,
   "metadata": {},
   "outputs": [],
   "source": [
    "import matplotlib.pyplot as plt\n",
    "from tqdm import tqdm\n",
    "import numpy as np\n",
    "import cv2\n",
    "import os"
   ]
  },
  {
   "cell_type": "code",
   "execution_count": 49,
   "metadata": {},
   "outputs": [],
   "source": [
    "FILENAME = \"test_corner.mp4\"\n",
    "MAX_FRAMES = 100\n",
    "INTERVAL = 10\n",
    "MAX_MATCH_DISTANCE = 40"
   ]
  },
  {
   "cell_type": "code",
   "execution_count": 62,
   "metadata": {},
   "outputs": [
    {
     "name": "stderr",
     "output_type": "stream",
     "text": [
      "100%|\u001b[34m██████████\u001b[0m| 100/100 [00:01<00:00, 64.51it/s]\n",
      "100%|\u001b[34m██████████\u001b[0m| 10/10 [00:00<00:00, 149.16it/s]\n"
     ]
    }
   ],
   "source": [
    "def extract_keypoints(video):\n",
    "    # Create a VideoCapture object to read the video file\n",
    "    cap = cv2.VideoCapture(video)\n",
    "    # Create an ORB object\n",
    "    orb = cv2.ORB_create()\n",
    "    # Extract all keypoints and descriptors by frame\n",
    "    frame_kpt, frame_des = [], []\n",
    "    video_frames = []\n",
    "    k = 1\n",
    "    # Loop through the video frames\n",
    "    with tqdm(total=MAX_FRAMES, colour=\"blue\") as pbar:\n",
    "        while cap.isOpened() and k <= MAX_FRAMES:\n",
    "            # Read a frame from the video\n",
    "            ret, frame = cap.read()\n",
    "            # Check if the frame was successfully read\n",
    "            if not ret:\n",
    "                continue\n",
    "            gray = cv2.cvtColor(frame, cv2.COLOR_BGR2GRAY)\n",
    "            kpt, des = orb.detectAndCompute(gray, None)\n",
    "            if des is None:\n",
    "                print(\"No keypoints/descriptors in frame \", k)\n",
    "                continue\n",
    "            pbar.update(1)\n",
    "            frame_kpt.append(kpt)\n",
    "            frame_des.append(des)\n",
    "            video_frames.append(frame)\n",
    "            k += 1\n",
    "            # Wait for Esc key to stop\n",
    "            if cv2.waitKey(1) == 27:\n",
    "                # De-allocate any associated memory usage\n",
    "                cv2.destroyAllWindows()\n",
    "                cap.release()\n",
    "                break\n",
    "        cap.release()\n",
    "        return frame_kpt, frame_des, video_frames\n",
    "\n",
    "\n",
    "def compute_all_matches(frame_des, frame_kpt):\n",
    "    # Create a Brute Force Matcher object\n",
    "    bf = cv2.BFMatcher(cv2.NORM_HAMMING, crossCheck=True)\n",
    "    # Compute all matches\n",
    "    all_matches = []\n",
    "    matched_keypoints = []\n",
    "    matched_descriptors = []\n",
    "    for i in range(len(frame_des) - 1):\n",
    "        matches = bf.match(frame_des[i], frame_des[i + 1])\n",
    "        matches = [match for match in matches if match.distance < MAX_MATCH_DISTANCE]\n",
    "        all_matches.append(matches)\n",
    "        # Get matched keypoints\n",
    "        matched_keypoints.append([[frame_kpt[i][match.queryIdx] for match in matches]])\n",
    "        matched_descriptors.append(\n",
    "            [[frame_des[i][match.queryIdx] for match in matches]]\n",
    "        )\n",
    "    if i == len(frame_des) - 2:\n",
    "        matched_keypoints.append(\n",
    "            [[frame_kpt[i + 1][match.trainIdx] for match in matches]]\n",
    "        )\n",
    "        matched_descriptors.append(\n",
    "            [[frame_des[i + 1][match.trainIdx] for match in matches]]\n",
    "        )\n",
    "    return all_matches\n",
    "\n",
    "\n",
    "frame_kpt, frame_des, video_frames = extract_keypoints(FILENAME)\n",
    "all_matches = []\n",
    "for i in tqdm(range(0, len(frame_kpt), 10), colour=\"blue\"):\n",
    "    all_matches.append(compute_all_matches(frame_des[0 + i : 10 + i], frame_kpt[0 + i : 10 + i]))"
   ]
  },
  {
   "cell_type": "code",
   "execution_count": 65,
   "metadata": {},
   "outputs": [
    {
     "name": "stderr",
     "output_type": "stream",
     "text": [
      "100%|██████████| 5/5 [00:00<00:00, 65741.44it/s]"
     ]
    },
    {
     "name": "stdout",
     "output_type": "stream",
     "text": [
      "[[[1, 3], 1, 2], [[2, 4, 2], 1, 4], [[4, 5], 3, 4], [[3, 5, 1], 1, 6], [[5, 9], 1, 2], [[3, 4, 3, 4, 3], 2, 6], [[4, 5], 2, 3], [[8, 9], 2, 3], [[5, 6, 5], 3, 6], [[4, 5, 6], 4, 6], [[5, 6], 4, 5], [[6, 7], 4, 5], [[6, 9], 5, 6]]\n"
     ]
    },
    {
     "name": "stderr",
     "output_type": "stream",
     "text": [
      "\n"
     ]
    }
   ],
   "source": [
    "def compare_matches(all_matches: np.ndarray) -> np.ndarray:\n",
    "    \"\"\"\n",
    "    description: Compare the matches between each pair of intervals.\n",
    "    param       {np.ndarray} all_matches: DataFrame containing the matches between each pair of intervals.\n",
    "    return      {np.ndarray}: A list containing the matches between each pair of intervals.\n",
    "    \"\"\"\n",
    "    # List to store the continuous matches and the terminal matches\n",
    "    continues_keypoints = []\n",
    "    terminated_keypoints = []\n",
    "    # Extract pairs of matching keypoints' indices from the matches\n",
    "    with tqdm(total=len(all_matches)) as pbar:\n",
    "        for i, matches in enumerate(all_matches):\n",
    "            pbar.update(1)\n",
    "            if not matches:\n",
    "                continue\n",
    "            # Extract the indices of the matching keypoints\n",
    "            match_pair_1, match_pair_2 = zip(*matches)\n",
    "            # Extract the indices of the matching keypoints from the last interval\n",
    "            last_matches = [x[1] for x in continues_keypoints]\n",
    "            for j in range(10):\n",
    "                if j in match_pair_1:\n",
    "                    if j in last_matches:\n",
    "                        index = last_matches.index(j)\n",
    "                        continues_keypoints[index][0].append(match_pair_2[\n",
    "                            match_pair_1.index(j)\n",
    "                        ])\n",
    "                        continues_keypoints[index][2] = i + 2\n",
    "                    else:\n",
    "                        continues_keypoints.append(\n",
    "                            [[j, match_pair_2[match_pair_1.index(j)]], i + 1, i + 2]\n",
    "                        )\n",
    "                else:\n",
    "                    if j in last_matches:\n",
    "                        terminated_keypoints.append(\n",
    "                            continues_keypoints[last_matches.index(j)]\n",
    "                        )\n",
    "\n",
    "            # Remove the keypoints in consecutive matches that has terminated\n",
    "            continues_keypoints = [\n",
    "                x for x in continues_keypoints if x not in terminated_keypoints\n",
    "            ]\n",
    "    terminated_keypoints.extend(continues_keypoints)\n",
    "    return terminated_keypoints\n",
    "\n",
    "debug_data = [\n",
    "    [(1, 3), (2, 4), (3, 5), (5, 9)],\n",
    "    [(3, 4), (4, 5), (8, 9)],\n",
    "    [(1, 2), (2, 3), (4, 5), (5, 6)],\n",
    "    [(2, 4), (4, 5), (5, 6), (6, 7)],\n",
    "    [(1, 1), (2, 3), (3, 5), (4, 6), (6, 9)],\n",
    "]\n",
    "print(compare_matches(debug_data))"
   ]
  },
  {
   "cell_type": "code",
   "execution_count": 69,
   "metadata": {},
   "outputs": [
    {
     "name": "stderr",
     "output_type": "stream",
     "text": [
      "100%|██████████| 5/5 [00:00<00:00, 64133.09it/s]"
     ]
    },
    {
     "name": "stdout",
     "output_type": "stream",
     "text": [
      "[3, 5, 1, 2]\n",
      "[5, 9, 1, 2]\n",
      "[8, 9, 2, 3]\n",
      "[2, 3, 3, 4]\n",
      "[4, 5, 4, 5]\n",
      "[2, 7, 1, 5]\n",
      "[1, 9, 1, 6]\n",
      "[1, 6, 3, 6]\n",
      "[1, 1, 5, 6]\n",
      "[2, 3, 5, 6]\n",
      "[3, 5, 5, 6]\n"
     ]
    },
    {
     "name": "stderr",
     "output_type": "stream",
     "text": [
      "\n"
     ]
    }
   ],
   "source": [
    "def compare_matches(all_matches: np.ndarray) -> np.ndarray:\n",
    "    \"\"\"\n",
    "    description: Compare the matches between each pair of intervals.\n",
    "    param       {np.ndarray} all_matches: DataFrame containing the matches between each pair of intervals.\n",
    "    return      {np.ndarray}: A list containing the matches between each pair of intervals.\n",
    "    \"\"\"\n",
    "    # List to store the continuous matches and the terminal matches\n",
    "    continues_keypoints = []\n",
    "    terminated_keypoints = []\n",
    "    # Extract pairs of matching keypoints' indices from the matches\n",
    "    with tqdm(total=len(all_matches)) as pbar:\n",
    "        for i, matches in enumerate(all_matches):\n",
    "            pbar.update(1)\n",
    "            if not matches:\n",
    "                continue\n",
    "            # Extract the indices of the matching keypoints\n",
    "            match_pair_1, match_pair_2 = zip(*matches)\n",
    "            # Extract the indices of the matching keypoints from the last interval\n",
    "            last_matches = [x[1] for x in continues_keypoints]\n",
    "            for j in range(10):\n",
    "                if j in match_pair_1:\n",
    "                    if j in last_matches:\n",
    "                        index = last_matches.index(j)\n",
    "                        continues_keypoints[index][1] = match_pair_2[\n",
    "                            match_pair_1.index(j)\n",
    "                        ]\n",
    "                        continues_keypoints[index][3] = i + 2\n",
    "                    else:\n",
    "                        continues_keypoints.append(\n",
    "                            [j, match_pair_2[match_pair_1.index(j)], i + 1, i + 2]\n",
    "                        )\n",
    "                else:\n",
    "                    if j in last_matches:\n",
    "                        terminated_keypoints.append(\n",
    "                            continues_keypoints[last_matches.index(j)]\n",
    "                        )\n",
    "                    else:\n",
    "                        terminated_keypoints.append([j, j, 1 + i, 1 + i])\n",
    "\n",
    "            # Remove the keypoints in consecutive matches that has terminated\n",
    "            continues_keypoints = [\n",
    "                x for x in continues_keypoints if x not in terminated_keypoints\n",
    "            ]\n",
    "    terminated_keypoints.extend(continues_keypoints)\n",
    "    return terminated_keypoints\n",
    "\n",
    "debug_data = [\n",
    "    [(1, 3), (2, 4), (3, 5), (5, 9)],\n",
    "    [(3, 4), (4, 5), (8, 9)],\n",
    "    [(1, 2), (2, 3), (4, 5), (5, 6)],\n",
    "    [(2, 4), (4, 5), (5, 6), (6, 7)],\n",
    "    [(1, 1), (2, 3), (3, 5), (4, 6), (6, 9)],\n",
    "]\n",
    "terminated_keypoints = compare_matches(debug_data)\n",
    "for tk in terminated_keypoints:\n",
    "    if tk[3] - tk[2] > 0:\n",
    "        print(tk)\n"
   ]
  },
  {
   "cell_type": "code",
   "execution_count": 44,
   "metadata": {},
   "outputs": [],
   "source": [
    "def plot_keypoints_traces(frame, kpts):\n",
    "    plt.figure(figsize=(10, 10))\n",
    "    plt.imshow(cv2.cvtColor(frame, cv2.COLOR_BGR2RGB))\n",
    "    for kpt in kpts:\n",
    "        plt.plot(kpt[0], kpt[1], 'ro', markersize=2)  # red dot for each keypoint\n",
    "    plt.title(\"Keypoints' traces on the first frame of 100th interval\")\n",
    "    plt.show()"
   ]
  },
  {
   "cell_type": "code",
   "execution_count": 45,
   "metadata": {},
   "outputs": [
    {
     "name": "stderr",
     "output_type": "stream",
     "text": [
      "100%|\u001b[34m██████████\u001b[0m| 10/10 [00:01<00:00,  9.54it/s]\n"
     ]
    }
   ],
   "source": [
    "import time\n",
    "\n",
    "for i in tqdm(range(10), colour='blue'):\n",
    "    time.sleep(0.1)"
   ]
  }
 ],
 "metadata": {
  "kernelspec": {
   "display_name": "Python 3",
   "language": "python",
   "name": "python3"
  },
  "language_info": {
   "codemirror_mode": {
    "name": "ipython",
    "version": 3
   },
   "file_extension": ".py",
   "mimetype": "text/x-python",
   "name": "python",
   "nbconvert_exporter": "python",
   "pygments_lexer": "ipython3",
   "version": "3.11.4"
  },
  "orig_nbformat": 4
 },
 "nbformat": 4,
 "nbformat_minor": 2
}
