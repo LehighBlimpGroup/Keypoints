{
 "cells": [
  {
   "cell_type": "code",
   "execution_count": null,
   "metadata": {},
   "outputs": [
    {
     "ename": "",
     "evalue": "",
     "output_type": "error",
     "traceback": [
      "\u001b[1;31mThe kernel failed to start as '/Users/karenli/Library/Python/3.11/lib/python/site-packages/psutil/_psutil_osx.abi3.so' could not be imported from '/Users/karenli/Library/Python/3.11/lib/python/site-packages/psutil/_psutil_osx.abi3.so, 0x0002'.\n",
      "\u001b[1;31mClick <a href='https://aka.ms/kernelFailuresModuleImportErrFromFile'>here</a> for more info."
     ]
    }
   ],
   "source": [
    "import matplotlib.pyplot as plt\n",
    "import numpy as np\n",
    "import cv2"
   ]
  },
  {
   "cell_type": "code",
   "execution_count": null,
   "metadata": {},
   "outputs": [
    {
     "ename": "",
     "evalue": "",
     "output_type": "error",
     "traceback": [
      "\u001b[1;31mThe kernel failed to start as '/Users/karenli/Library/Python/3.11/lib/python/site-packages/psutil/_psutil_osx.abi3.so' could not be imported from '/Users/karenli/Library/Python/3.11/lib/python/site-packages/psutil/_psutil_osx.abi3.so, 0x0002'.\n",
      "\u001b[1;31mClick <a href='https://aka.ms/kernelFailuresModuleImportErrFromFile'>here</a> for more info."
     ]
    }
   ],
   "source": [
    "### Constants ###\n",
    "# Path to the descriptor files\n",
    "DESCRIPTOR_FILE_PATH = \"side_demo_kpt_des\"      \n",
    "# The maximum distance between two matched keypoints\n",
    "MAX_MATCH_DISTANCE = 40             \n",
    "# THe nummber of frames in an interval\n",
    "FRAMES_PER_INTERVAL = 10\n",
    "# Maximum number of intervals\n",
    "MAX_INTERVALS = 500\n",
    "# Create a BFMatcher object with Hamming distance (suitable for ORB, BRIEF, etc.)\n",
    "bf = cv2.BFMatcher(cv2.NORM_HAMMING, crossCheck=True)            "
   ]
  },
  {
   "cell_type": "code",
   "execution_count": null,
   "metadata": {},
   "outputs": [
    {
     "ename": "",
     "evalue": "",
     "output_type": "error",
     "traceback": [
      "\u001b[1;31mThe kernel failed to start as '/Users/karenli/Library/Python/3.11/lib/python/site-packages/psutil/_psutil_osx.abi3.so' could not be imported from '/Users/karenli/Library/Python/3.11/lib/python/site-packages/psutil/_psutil_osx.abi3.so, 0x0002'.\n",
      "\u001b[1;31mClick <a href='https://aka.ms/kernelFailuresModuleImportErrFromFile'>here</a> for more info."
     ]
    }
   ],
   "source": [
    "def load_kpt_des() -> list:\n",
    "    \"\"\"\n",
    "    description: Load KPT descriptors from the files.\n",
    "    return      {list}: A list containing the descriptors for each interval.\n",
    "    \"\"\"\n",
    "    # List of all the descriptors\n",
    "    descriptors = []\n",
    "    # Load and save all the descriptors from the file\n",
    "    for i in range(MAX_INTERVALS):\n",
    "        file_name = (\n",
    "            \"../\"\n",
    "            + DESCRIPTOR_FILE_PATH\n",
    "            + \"/\"\n",
    "            + DESCRIPTOR_FILE_PATH\n",
    "            + str(i + 1)\n",
    "            + \".yml\"\n",
    "        )\n",
    "        file_storage = cv2.FileStorage(file_name, cv2.FILE_STORAGE_READ)\n",
    "        # Load the descriptors from the file\n",
    "        descriptors.append(file_storage.getNode(\"descriptors\").mat())\n",
    "        file_storage.release()\n",
    "    return descriptors\n",
    "\n",
    "\n",
    "def compare_descriptors(descriptors1: np.ndarray, descriptors2: np.ndarray) -> list:\n",
    "    \"\"\"\n",
    "    description: Compare two sets of descriptors using BFMatcher.\n",
    "    param       {np.ndarray} descriptors1: Descriptors from the first set.\n",
    "    param       {np.ndarray} descriptors2: Descriptors from the second set.\n",
    "    return      {list}: A list containing pairs of matching keypoints' indices (queryIdx, trainIdx).\n",
    "    \"\"\"\n",
    "    # Match descriptors from two intervals\n",
    "    raw_matches = bf.match(descriptors1, descriptors2)\n",
    "    # Extract pairs of matching keypoints' indices from the matches\n",
    "    raw_matches = [m for m in raw_matches if m.distance < MAX_MATCH_DISTANCE]\n",
    "    matches = [(match.queryIdx, match.trainIdx) for match in raw_matches]\n",
    "    return matches\n",
    "\n",
    "\n",
    "def process_data(descriptors: np.ndarray) -> np.ndarray:\n",
    "    \"\"\"\n",
    "    description: Process the data to get the matches between each pair of intervals.\n",
    "    param       {np.ndarray} descriptors: DataFrame containing the descriptors for each interval.\n",
    "    return      {np.ndarray}: A list containing the matches between each pair of intervals.\n",
    "    \"\"\"\n",
    "    # List of all the matches\n",
    "    all_matches = []\n",
    "    # Extract pairs of matching keypoints' indices from the matches\n",
    "    for i in range(len(descriptors) - 1):\n",
    "        current_matches = compare_descriptors(descriptors[i], descriptors[i + 1])\n",
    "        all_matches.append(current_matches)\n",
    "    return all_matches\n",
    "\n",
    "\n",
    "def compare_matches(all_matches: np.ndarray, descriptors: np.ndarray) -> np.ndarray:\n",
    "    \"\"\"\n",
    "    description: Compare the matches between each pair of intervals.\n",
    "    param       {np.ndarray} all_matches: DataFrame containing the matches between each pair of intervals.\n",
    "    return      {np.ndarray}: A list containing the matches between each pair of intervals.\n",
    "    \"\"\"\n",
    "    # List to store the continuous matches and the terminal matches\n",
    "    continues_keypoints = []\n",
    "    terminated_keypoints = []\n",
    "    # Extract pairs of matching keypoints' indices from the matches\n",
    "    for i, matches in enumerate(all_matches):\n",
    "        # Extract the indices of the matching keypoints\n",
    "        match_pair_1, match_pair_2 = zip(*matches)\n",
    "        # Extract the indices of the matching keypoints from the last interval\n",
    "        last_matches = [x[1] for x in continues_keypoints]\n",
    "        for j in range(len(descriptors[i])):\n",
    "            if j in match_pair_1:\n",
    "                if j in last_matches:\n",
    "                    index = last_matches.index(j)\n",
    "                    continues_keypoints[index][1] = match_pair_2[match_pair_1.index(j)]\n",
    "                    continues_keypoints[index][3] = i + 2\n",
    "                else:\n",
    "                    continues_keypoints.append(\n",
    "                        [j, match_pair_2[match_pair_1.index(j)], i + 1, i + 2]\n",
    "                    )\n",
    "            else:\n",
    "                if j in last_matches:\n",
    "                    terminated_keypoints.append(\n",
    "                        continues_keypoints[last_matches.index(j)]\n",
    "                    )\n",
    "                else:\n",
    "                    terminated_keypoints.append([j, j, 1 + i, 1 + i])\n",
    "\n",
    "        # Remove the keypoints in consecutive matches that has terminated\n",
    "        continues_keypoints = [x for x in continues_keypoints if x not in terminated_keypoints]\n",
    "    terminated_keypoints.extend(continues_keypoints)\n",
    "    return terminated_keypoints\n",
    "\n",
    "\n",
    "def plot_timeline(processed_data: np.ndarray, savefig: bool) -> None:\n",
    "    \"\"\"\n",
    "    description: Plot the timeline of the keypoints.\n",
    "    param       {np.ndarray} processed_data: DataFrame containing the processed data.\n",
    "    param       {bool} savefig: Whether to save the plot.\n",
    "    return      {*} None\n",
    "    \"\"\"\n",
    "    default_colors = plt.rcParams[\"axes.prop_cycle\"].by_key()[\"color\"]\n",
    "    fig, ax = plt.subplots()\n",
    "    for idx, item in enumerate(processed_data):\n",
    "        # Convert intervals to frames\n",
    "        start_frame = (item[2] - 1) * FRAMES_PER_INTERVAL\n",
    "        end_frame = item[3] * FRAMES_PER_INTERVAL\n",
    "        color = default_colors[idx % len(default_colors)]\n",
    "        ax.hlines(idx, start_frame, end_frame, colors=color, lw=2)\n",
    "\n",
    "    ax.set_xlabel(\"Frame\")\n",
    "    ax.set_ylabel(\"Keypoint\")\n",
    "    ax.set_title(\"Timeline\")\n",
    "    # ax.set_yticks(np.arange(0, len(processed_data)))\n",
    "    max_frame = FRAMES_PER_INTERVAL * MAX_INTERVALS\n",
    "    ax.set_xlim(0, max_frame)\n",
    "\n",
    "    # Setting gridlines at the start of each interval\n",
    "    # ax.set_xticks(np.arange(0, max_frame + 1, FRAMES_PER_INTERVAL))\n",
    "\n",
    "    # # Shade every frame section\n",
    "    # for i in range(1, max_frame + 1):\n",
    "    #     if i % 2 == 0:\n",
    "    #         ax.axvspan(i - 1, i, facecolor=\"lightgray\", alpha=0.5)\n",
    "\n",
    "    plt.grid()\n",
    "    plt.show()\n",
    "    if savefig:\n",
    "        fig.savefig(\"../Results/timeline.pdf\")\n",
    "\n",
    "def plot_continuity(all_matches: np.ndarray, descriptors: np.ndarray, savefig: bool) -> None:\n",
    "    # Calculate the numbers\n",
    "    matches_numbers = [len(all_matches[i]) for i in range(len(all_matches))]\n",
    "    keypoints_numbers = [len(descriptors[i]) for i in range(len(descriptors))]\n",
    "\n",
    "    # Calculate average and minimum for matches and keypoints separately\n",
    "    avg_matches = np.mean(matches_numbers)\n",
    "    avg_keypoints = np.mean(keypoints_numbers)\n",
    "    min_matches = np.min(matches_numbers)\n",
    "    min_keypoints = np.min(keypoints_numbers)\n",
    "\n",
    "    fig, ax = plt.subplots()\n",
    "    \n",
    "    ax.plot(np.arange(1, len(matches_numbers) + 1), matches_numbers, label=\"Matches\", color=\"blue\")\n",
    "    ax.plot(np.arange(1, len(keypoints_numbers) + 1), keypoints_numbers, label=\"Keypoints\", color=\"green\")\n",
    "    \n",
    "    ax.axhline(avg_matches, label=\"Avg Matches\", color=\"blue\", linestyle=\"--\")\n",
    "    ax.axhline(avg_keypoints, label=\"Avg Keypoints\", color=\"green\", linestyle=\"--\")\n",
    "    ax.axhline(min_matches, label=\"Min Matches\", color=\"blue\", linestyle=\":\")\n",
    "    ax.axhline(min_keypoints, label=\"Min Keypoints\", color=\"green\", linestyle=\":\")\n",
    "\n",
    "    # Annotate the axhline values\n",
    "    # Annotate the axhline values\n",
    "    ax.annotate(f\"{avg_matches:.2f}\", xy=(0, avg_matches), xytext=(-15, 0), textcoords='offset points', verticalalignment='center', horizontalalignment='right')\n",
    "    ax.annotate(f\"{avg_keypoints:.2f}\", xy=(0, avg_keypoints), xytext=(-15, 0), textcoords='offset points', verticalalignment='center', horizontalalignment='right')\n",
    "    ax.annotate(f\"{min_matches:.2f}\", xy=(0, min_matches), xytext=(-15, 0), textcoords='offset points', verticalalignment='center', horizontalalignment='right')\n",
    "    ax.annotate(f\"{min_keypoints:.2f}\", xy=(0, min_keypoints), xytext=(-15, 0), textcoords='offset points', verticalalignment='center', horizontalalignment='right')\n",
    "\n",
    "    ax.set_xlabel(\"Interval\")\n",
    "    ax.set_ylabel(\"Number of keypoints\")\n",
    "    ax.set_title(\"Continuity\")\n",
    "    ax.legend()\n",
    "    plt.grid(True)  # Added grid for better visualization\n",
    "    plt.show()\n",
    "    if savefig:\n",
    "        fig.savefig(\"../Results/continuity.pdf\")\n"
   ]
  },
  {
   "cell_type": "code",
   "execution_count": null,
   "metadata": {},
   "outputs": [
    {
     "ename": "",
     "evalue": "",
     "output_type": "error",
     "traceback": [
      "\u001b[1;31mThe kernel failed to start as '/Users/karenli/Library/Python/3.11/lib/python/site-packages/psutil/_psutil_osx.abi3.so' could not be imported from '/Users/karenli/Library/Python/3.11/lib/python/site-packages/psutil/_psutil_osx.abi3.so, 0x0002'.\n",
      "\u001b[1;31mClick <a href='https://aka.ms/kernelFailuresModuleImportErrFromFile'>here</a> for more info."
     ]
    }
   ],
   "source": [
    "# Load the descriptors from the file\n",
    "print(\"Loading descriptors...\")\n",
    "descriptors = load_kpt_des()\n",
    "print(len(descriptors), \"descriptors loaded.\")\n",
    "print(\"Processing data...\")\n",
    "all_matches = process_data(descriptors)\n",
    "print(len(all_matches), \"pairs of matches found.\")\n",
    "print(\"Comparing matches...\")\n",
    "debug_data = [\n",
    "    [(1, 3), (2, 4), (3, 5), (5, 9)],\n",
    "    [(3, 4), (4, 5), (8, 9)],\n",
    "    [(1, 2), (2, 3), (4, 5), (5, 6)],\n",
    "    [(2, 4), (4, 5), (5, 6), (6, 7)],\n",
    "    [(1, 1), (2, 3), (3, 5), (4, 6), (6, 9)],\n",
    "]\n",
    "# processed_data = compare_matches(debug_data)\n",
    "processed_data = compare_matches(all_matches, descriptors)\n",
    "# NOTE: This number has a negative correlation with the MAX_MATCH_DISTANCE\n",
    "# If the match is stricter between intervals, then the number of continuous matches will be lower\n",
    "# That brokes the continuous match, making the total number of matches higher\n",
    "print(len(processed_data), \"pairs of continuous matches found.\")"
   ]
  },
  {
   "cell_type": "code",
   "execution_count": null,
   "metadata": {},
   "outputs": [
    {
     "ename": "",
     "evalue": "",
     "output_type": "error",
     "traceback": [
      "\u001b[1;31mThe kernel failed to start as '/Users/karenli/Library/Python/3.11/lib/python/site-packages/psutil/_psutil_osx.abi3.so' could not be imported from '/Users/karenli/Library/Python/3.11/lib/python/site-packages/psutil/_psutil_osx.abi3.so, 0x0002'.\n",
      "\u001b[1;31mClick <a href='https://aka.ms/kernelFailuresModuleImportErrFromFile'>here</a> for more info."
     ]
    }
   ],
   "source": [
    "print(\"Plotting timeline...\")\n",
    "plot_timeline(processed_data, True)\n",
    "print(\"Done.\")"
   ]
  },
  {
   "cell_type": "code",
   "execution_count": null,
   "metadata": {},
   "outputs": [
    {
     "ename": "",
     "evalue": "",
     "output_type": "error",
     "traceback": [
      "\u001b[1;31mThe kernel failed to start as '/Users/karenli/Library/Python/3.11/lib/python/site-packages/psutil/_psutil_osx.abi3.so' could not be imported from '/Users/karenli/Library/Python/3.11/lib/python/site-packages/psutil/_psutil_osx.abi3.so, 0x0002'.\n",
      "\u001b[1;31mClick <a href='https://aka.ms/kernelFailuresModuleImportErrFromFile'>here</a> for more info."
     ]
    }
   ],
   "source": [
    "print(\"Plotting continuity...\")\n",
    "plot_continuity(all_matches, descriptors, True)\n",
    "print(\"Done.\")"
   ]
  }
 ],
 "metadata": {
  "kernelspec": {
   "display_name": "Python 3 (ipykernel)",
   "language": "python",
   "name": "python3"
  },
  "language_info": {
   "codemirror_mode": {
    "name": "ipython",
    "version": 3
   },
   "file_extension": ".py",
   "mimetype": "text/x-python",
   "name": "python",
   "nbconvert_exporter": "python",
   "pygments_lexer": "ipython3",
   "version": "3.11.4"
  }
 },
 "nbformat": 4,
 "nbformat_minor": 2
}
