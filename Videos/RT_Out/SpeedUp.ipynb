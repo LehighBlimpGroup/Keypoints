{
 "cells": [
  {
   "cell_type": "code",
   "execution_count": 3,
   "metadata": {},
   "outputs": [
    {
     "name": "stdout",
     "output_type": "stream",
     "text": [
      "Moviepy - Building video RT_Out_World_Frame_S.mp4.\n",
      "MoviePy - Writing audio in RT_Out_World_Frame_STEMP_MPY_wvf_snd.mp3\n"
     ]
    },
    {
     "name": "stderr",
     "output_type": "stream",
     "text": [
      "                                                                    \r"
     ]
    },
    {
     "name": "stdout",
     "output_type": "stream",
     "text": [
      "MoviePy - Done.\n",
      "Moviepy - Writing video RT_Out_World_Frame_S.mp4\n",
      "\n"
     ]
    },
    {
     "name": "stderr",
     "output_type": "stream",
     "text": [
      "                                                               \r"
     ]
    },
    {
     "name": "stdout",
     "output_type": "stream",
     "text": [
      "Moviepy - Done !\n",
      "Moviepy - video ready RT_Out_World_Frame_S.mp4\n",
      "Moviepy - Building video RT_Out_Imitator_S.mp4.\n",
      "Moviepy - Writing video RT_Out_Imitator_S.mp4\n",
      "\n"
     ]
    },
    {
     "name": "stderr",
     "output_type": "stream",
     "text": [
      "                                                               \r"
     ]
    },
    {
     "name": "stdout",
     "output_type": "stream",
     "text": [
      "Moviepy - Done !\n",
      "Moviepy - video ready RT_Out_Imitator_S.mp4\n"
     ]
    }
   ],
   "source": [
    "from moviepy.editor import VideoFileClip, vfx\n",
    "\n",
    "def get_video_duration(filename):\n",
    "    with VideoFileClip(filename) as clip:\n",
    "        duration = clip.duration\n",
    "    return duration\n",
    "\n",
    "def speed_up_video(input_path, output_path, speed_multiplier):\n",
    "    \"\"\"\n",
    "    Speeds up an entire video.\n",
    "\n",
    "    Parameters:\n",
    "    - input_path: Path to the input video file.\n",
    "    - output_path: Path to save the sped-up video.\n",
    "    - speed_multiplier: Factor by which to speed up the video.\n",
    "    \"\"\"\n",
    "    \n",
    "    # Load the video clip\n",
    "    clip = VideoFileClip(input_path)\n",
    "    \n",
    "    # Apply the speed effect to the entire clip\n",
    "    sped_up_clip = clip.fx(vfx.speedx, speed_multiplier)\n",
    "    \n",
    "    # Write the result to a file\n",
    "    sped_up_clip.write_videofile(output_path, codec='libx264')\n",
    "\n",
    "# Calculate the speed multiplier\n",
    "desired_duration = 20\n",
    "\n",
    "# Speed up the video\n",
    "speed_up_video(\"RT_Out_World_Frame.mp4\", \"RT_Out_World_Frame_S.mp4\", get_video_duration(\"RT_Out_World_Frame.mp4\") / desired_duration)\n",
    "speed_up_video(\"RT_Out_Imitator.mp4\", \"RT_Out_Imitator_S.mp4\", get_video_duration(\"RT_Out_Imitator.mp4\") / desired_duration)"
   ]
  }
 ],
 "metadata": {
  "kernelspec": {
   "display_name": "Python 3",
   "language": "python",
   "name": "python3"
  },
  "language_info": {
   "codemirror_mode": {
    "name": "ipython",
    "version": 3
   },
   "file_extension": ".py",
   "mimetype": "text/x-python",
   "name": "python",
   "nbconvert_exporter": "python",
   "pygments_lexer": "ipython3",
   "version": "3.11.5"
  },
  "orig_nbformat": 4
 },
 "nbformat": 4,
 "nbformat_minor": 2
}
