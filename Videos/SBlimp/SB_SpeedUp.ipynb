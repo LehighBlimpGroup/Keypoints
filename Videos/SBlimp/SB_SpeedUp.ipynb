{
 "cells": [
  {
   "cell_type": "code",
   "execution_count": 3,
   "metadata": {},
   "outputs": [
    {
     "name": "stdout",
     "output_type": "stream",
     "text": [
      "Moviepy - Building video SB_Errors_Animation_Fast.mp4.\n",
      "Moviepy - Writing video SB_Errors_Animation_Fast.mp4\n",
      "\n"
     ]
    },
    {
     "name": "stderr",
     "output_type": "stream",
     "text": [
      "                                                                 "
     ]
    },
    {
     "name": "stdout",
     "output_type": "stream",
     "text": [
      "Moviepy - Done !\n",
      "Moviepy - video ready SB_Errors_Animation_Fast.mp4\n"
     ]
    },
    {
     "name": "stderr",
     "output_type": "stream",
     "text": [
      "\r"
     ]
    }
   ],
   "source": [
    "from moviepy.editor import VideoFileClip, vfx\n",
    "\n",
    "def speed_up_video(input_path, output_path, speed_multiplier):\n",
    "    \"\"\"\n",
    "    Speeds up an entire video.\n",
    "\n",
    "    Parameters:\n",
    "    - input_path: Path to the input video file.\n",
    "    - output_path: Path to save the sped-up video.\n",
    "    - speed_multiplier: Factor by which to speed up the video.\n",
    "    \"\"\"\n",
    "    \n",
    "    # Load the video clip\n",
    "    clip = VideoFileClip(input_path)\n",
    "    \n",
    "    # Apply the speed effect to the entire clip\n",
    "    sped_up_clip = clip.fx(vfx.speedx, speed_multiplier)\n",
    "    \n",
    "    # Write the result to a file\n",
    "    sped_up_clip.write_videofile(output_path, codec='libx264')\n",
    "\n",
    "# Calculate the speed multiplier\n",
    "original_duration = 4 * 60 + 5.79\n",
    "desired_duration = 60\n",
    "speed_multiplier = original_duration / desired_duration\n",
    "\n",
    "# Speed up the video\n",
    "speed_up_video(\"SB_Imitator.mp4\", \"SB_Imitator_Fast.mp4\", speed_multiplier)\n",
    "speed_up_video(\"SB_World_Frame.mp4\", \"SB_World_Frame_Fast.mp4\", speed_multiplier)\n",
    "speed_up_video(\"SB_Errors_Animation.mp4\", \"SB_Errors_Animation_Fast.mp4\", speed_multiplier)"
   ]
  }
 ],
 "metadata": {
  "kernelspec": {
   "display_name": "Python 3",
   "language": "python",
   "name": "python3"
  },
  "language_info": {
   "codemirror_mode": {
    "name": "ipython",
    "version": 3
   },
   "file_extension": ".py",
   "mimetype": "text/x-python",
   "name": "python",
   "nbconvert_exporter": "python",
   "pygments_lexer": "ipython3",
   "version": "3.11.5"
  },
  "orig_nbformat": 4
 },
 "nbformat": 4,
 "nbformat_minor": 2
}
